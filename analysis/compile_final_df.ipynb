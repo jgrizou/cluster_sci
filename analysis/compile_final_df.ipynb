{
 "cells": [
  {
   "cell_type": "code",
   "execution_count": 71,
   "id": "9870cf02-64f7-4794-b9f1-c97e9a1a3ef4",
   "metadata": {},
   "outputs": [],
   "source": [
    "import sys\n",
    "tools_path = os.path.join('..', 'tools')\n",
    "sys.path.append(tools_path)\n",
    "import file_tools\n",
    "\n",
    "import os\n",
    "_DF_DIR = os.path.join('.', 'df_files')\n",
    "_FINAL_DFS_DIR = os.path.join('.', 'final_dfs')\n",
    "file_tools.ensure_dir(_FINAL_DFS_DIR)"
   ]
  },
  {
   "cell_type": "code",
   "execution_count": 72,
   "id": "a778190d-b537-419a-b566-a6b77f3a30a7",
   "metadata": {},
   "outputs": [],
   "source": [
    "import numpy as np\n",
    "import pandas as pd"
   ]
  },
  {
   "cell_type": "code",
   "execution_count": 73,
   "id": "a6f94cb6-ed43-4b6f-b9e2-b6ac22ed6e08",
   "metadata": {},
   "outputs": [
    {
     "name": "stdout",
     "output_type": "stream",
     "text": [
      "results_cluster 23836 ['LinearRegression' 'SVR' 'MLP']\n",
      "results_latest_moresvr 23836 ['LinearRegression' 'SVR' 'MLP']\n",
      "optim_ablation 1352500 ['LinearRegression']\n",
      "results_clustersvr 340 ['BestSVR']\n",
      "results_dimensionality_eeg 10346 ['LinearRegression' 'Shuffle_LinearRegression' 'DummyScoring_Mean']\n",
      "results_dimensionality_face 10200 ['LinearRegression' 'Shuffle_LinearRegression' 'DummyScoring_Mean']\n",
      "results 24592 ['LinearRegression' 'Shuffle_LinearRegression' 'DummyScoring_Mean' 'SVR'\n",
      " 'RandomForest' 'MLP']\n",
      "results_ablation 36720 ['LinearRegression' 'Shuffle_LinearRegression' 'DummyScoring_Mean']\n",
      "optim 800000 ['LinearRegression' 'Shuffle_LinearRegression' 'DummyScoring_Mean']\n",
      "results_best_again 371 ['BestSVR' 'BestMLP']\n",
      "results_best_cluster 371 ['BestSVR' 'BestMLP']\n"
     ]
    }
   ],
   "source": [
    "dfs = {}\n",
    "for f in file_tools.list_files(_DF_DIR, '*.parquet'):\n",
    "    dbf = os.path.join(_DF_DIR, f)\n",
    "    df = pd.read_parquet(dbf, engine='pyarrow')\n",
    "    basename = file_tools.get_filebasename(f)\n",
    "    dfs[basename] = df\n",
    "    print(basename, len(df), df['method_name'].unique())"
   ]
  },
  {
   "cell_type": "code",
   "execution_count": 81,
   "id": "3c0b546e-5f7f-4f4a-9d13-4d5c94475fbb",
   "metadata": {},
   "outputs": [
    {
     "name": "stdout",
     "output_type": "stream",
     "text": [
      "['LinearRegression' 'Shuffle_LinearRegression' 'DummyScoring_Mean']\n",
      "['SVR' 'MLP']\n",
      "['LinearRegression' 'Shuffle_LinearRegression' 'DummyScoring_Mean' 'SVR'\n",
      " 'MLP' 'BestSVR' 'BestMLP']\n"
     ]
    }
   ],
   "source": [
    "# some local regressors runs were test run incomplete to prepare for cluster runs\n",
    "mask_results = ((dfs['results']['method_name'] != \"SVR\") &\n",
    "        (dfs['results']['method_name'] != \"MLP\") &\n",
    "        (dfs['results']['method_name'] != \"RandomForest\"))\n",
    "\n",
    "result_df = dfs['results'][mask_results]\n",
    "print(result_df['method_name'].unique())\n",
    "\n",
    "# LinReg on cluster is a duplicate, we could keep cluster one or local run one\n",
    "# we remove cluste one\n",
    "mask_results_cluster = ((dfs['results_cluster']['method_name'] != \"LinearRegression\"))\n",
    "\n",
    "results_cluster_df = dfs['results_cluster'][mask_results_cluster]\n",
    "print(results_cluster_df['method_name'].unique())\n",
    "\n",
    "results_best_cluster_df = dfs['results_best_cluster']\n",
    "\n",
    "final_result_df = pd.concat([result_df, results_cluster_df, results_best_cluster_df], axis=0)\n",
    "print(final_result_df['method_name'].unique())"
   ]
  },
  {
   "cell_type": "code",
   "execution_count": 82,
   "id": "58826f1c-4647-4a2e-8e96-61845a6cb765",
   "metadata": {},
   "outputs": [],
   "source": [
    "results_filename = os.path.join(_FINAL_DFS_DIR, 'results.parquet')\n",
    "final_result_df.to_parquet(results_filename, engine='pyarrow')\n",
    "\n",
    "results_ablation_filename = os.path.join(_FINAL_DFS_DIR, 'results_ablation.parquet')\n",
    "dfs['results_ablation'].to_parquet(results_ablation_filename, engine='pyarrow')"
   ]
  },
  {
   "cell_type": "code",
   "execution_count": 83,
   "id": "c58fd8e3-01a2-40d9-80ed-6c3b15486716",
   "metadata": {},
   "outputs": [],
   "source": [
    "results_dimensionality_eeg_filename = os.path.join(_FINAL_DFS_DIR, 'results_dimensionality_eeg.parquet')\n",
    "dfs['results_dimensionality_face'].to_parquet(results_dimensionality_eeg_filename, engine='pyarrow')\n",
    "\n",
    "results_dimensionality_face_filename = os.path.join(_FINAL_DFS_DIR, 'results_dimensionality_face.parquet')\n",
    "dfs['results_dimensionality_face'].to_parquet(results_dimensionality_face_filename, engine='pyarrow')"
   ]
  },
  {
   "cell_type": "code",
   "execution_count": 84,
   "id": "19c56ad9-23c7-481e-ba50-0468854dcc20",
   "metadata": {},
   "outputs": [],
   "source": [
    "optim_filename = os.path.join(_FINAL_DFS_DIR, 'optim.parquet')\n",
    "dfs['optim'].to_parquet(optim_filename, engine='pyarrow')\n",
    "\n",
    "optim_ablation_filename = os.path.join(_FINAL_DFS_DIR, 'optim_ablation.parquet')\n",
    "dfs['optim_ablation'].to_parquet(optim_ablation_filename, engine='pyarrow')"
   ]
  },
  {
   "cell_type": "code",
   "execution_count": null,
   "id": "1413d1b0-2610-4876-b7c6-3f68f4e00dcc",
   "metadata": {},
   "outputs": [],
   "source": []
  }
 ],
 "metadata": {
  "kernelspec": {
   "display_name": "Python 3 (ipykernel)",
   "language": "python",
   "name": "python3"
  },
  "language_info": {
   "codemirror_mode": {
    "name": "ipython",
    "version": 3
   },
   "file_extension": ".py",
   "mimetype": "text/x-python",
   "name": "python",
   "nbconvert_exporter": "python",
   "pygments_lexer": "ipython3",
   "version": "3.9.19"
  }
 },
 "nbformat": 4,
 "nbformat_minor": 5
}
